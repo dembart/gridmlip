{
 "cells": [
  {
   "cell_type": "code",
   "execution_count": 1,
   "id": "273cd571",
   "metadata": {},
   "outputs": [
    {
     "name": "stderr",
     "output_type": "stream",
     "text": [
      "/home/dembitskiy/miniconda3/envs/matgl/lib/python3.12/site-packages/tqdm/auto.py:21: TqdmWarning: IProgress not found. Please update jupyter and ipywidgets. See https://ipywidgets.readthedocs.io/en/stable/user_install.html\n",
      "  from .autonotebook import tqdm as notebook_tqdm\n"
     ]
    }
   ],
   "source": [
    "import collections\n",
    "from functools import partial\n",
    "from tqdm import tqdm\n",
    "import numpy as np\n",
    "import torch\n",
    "import matgl\n",
    "from matgl.config import DEFAULT_ELEMENTS\n",
    "from matgl.ext.pymatgen import Structure2Graph\n",
    "from matgl.graph.data import MGLDataLoader, MGLDataset, collate_fn_pes\n",
    "from matgl.utils.training import ModelLightningModule\n",
    "from pymatgen.io.ase import AseAtomsAdaptor\n",
    "\n",
    "from gridmlip import Grid"
   ]
  },
  {
   "cell_type": "code",
   "execution_count": null,
   "id": "4ac1d0ec",
   "metadata": {},
   "outputs": [
    {
     "name": "stderr",
     "output_type": "stream",
     "text": [
      "creating configurations: 50400it [00:01, 46861.56it/s]\n"
     ]
    }
   ],
   "source": [
    "grid = Grid.from_file('../example_files/NaGaPO4F_sym.cif',\n",
    "                      specie = 11,       # atomic number\n",
    "                      resolution = 0.25, # grid spacing\n",
    "                      r_min = 1.5        # minimum allowed distance between the specie and framework\n",
    "                      )\n",
    "cfgs = grid.construct_configurations()"
   ]
  },
  {
   "cell_type": "code",
   "execution_count": 3,
   "id": "5160e87f",
   "metadata": {},
   "outputs": [
    {
     "name": "stderr",
     "output_type": "stream",
     "text": [
      "100%|██████████| 17176/17176 [00:12<00:00, 1326.30it/s]\n"
     ]
    }
   ],
   "source": [
    "structures = []\n",
    "labels = collections.defaultdict(list)\n",
    "\n",
    "for cfg in tqdm(cfgs):\n",
    "    structures.append(AseAtomsAdaptor.get_structure(cfg))\n",
    "    # labels are just to build MGLDataLoader\n",
    "    labels[\"energies\"].append(0.0)\n",
    "    labels[\"forces\"].append(np.zeros(len(cfg)).tolist())"
   ]
  },
  {
   "cell_type": "code",
   "execution_count": 4,
   "id": "68168b7a",
   "metadata": {},
   "outputs": [
    {
     "name": "stderr",
     "output_type": "stream",
     "text": [
      "100%|██████████| 17176/17176 [00:29<00:00, 586.84it/s]\n"
     ]
    }
   ],
   "source": [
    "element_types = DEFAULT_ELEMENTS\n",
    "cry_graph = Structure2Graph(element_types=element_types, cutoff=5.0)\n",
    "dataset = MGLDataset(structures=structures, converter=cry_graph,\n",
    "                      labels = labels\n",
    "                      )"
   ]
  },
  {
   "cell_type": "code",
   "execution_count": 5,
   "id": "b20eac21",
   "metadata": {},
   "outputs": [],
   "source": [
    "collate_fn = partial(collate_fn_pes, include_line_graph=False, include_stress=False)\n",
    "# create loader for the inference\n",
    "_, _, loader = MGLDataLoader(\n",
    "    train_data=[None],\n",
    "    val_data = [None],\n",
    "    test_data = dataset,\n",
    "    collate_fn=collate_fn,\n",
    "    batch_size=128,\n",
    "    num_workers=0,\n",
    ")"
   ]
  },
  {
   "cell_type": "code",
   "execution_count": 6,
   "id": "d15a92f7",
   "metadata": {},
   "outputs": [],
   "source": [
    "device = 'cuda'"
   ]
  },
  {
   "cell_type": "code",
   "execution_count": 7,
   "id": "1534ae46",
   "metadata": {},
   "outputs": [
    {
     "name": "stderr",
     "output_type": "stream",
     "text": [
      "/home/dembitskiy/miniconda3/envs/matgl/lib/python3.12/site-packages/matgl/utils/io.py:151: FutureWarning: You are using `torch.load` with `weights_only=False` (the current default value), which uses the default pickle module implicitly. It is possible to construct malicious pickle data which will execute arbitrary code during unpickling (See https://github.com/pytorch/pytorch/blob/main/SECURITY.md#untrusted-models for more details). In a future release, the default value for `weights_only` will be flipped to `True`. This limits the functions that could be executed during unpickling. Arbitrary objects will no longer be allowed to be loaded via this mode unless they are explicitly allowlisted by the user via `torch.serialization.add_safe_globals`. We recommend you start setting `weights_only=True` for any use case where you don't have full control of the loaded file. Please open an issue on GitHub for any issues related to this experimental feature.\n",
      "  state = torch.load(f, map_location=map_location)\n",
      "/home/dembitskiy/miniconda3/envs/matgl/lib/python3.12/site-packages/matgl/utils/io.py:153: FutureWarning: You are using `torch.load` with `weights_only=False` (the current default value), which uses the default pickle module implicitly. It is possible to construct malicious pickle data which will execute arbitrary code during unpickling (See https://github.com/pytorch/pytorch/blob/main/SECURITY.md#untrusted-models for more details). In a future release, the default value for `weights_only` will be flipped to `True`. This limits the functions that could be executed during unpickling. Arbitrary objects will no longer be allowed to be loaded via this mode unless they are explicitly allowlisted by the user via `torch.serialization.add_safe_globals`. We recommend you start setting `weights_only=True` for any use case where you don't have full control of the loaded file. Please open an issue on GitHub for any issues related to this experimental feature.\n",
      "  d = torch.load(f, map_location=map_location)\n"
     ]
    }
   ],
   "source": [
    "model = matgl.load_model(\"TensorNet-MatPES-PBE-v2025.1-PES\").model\n",
    "model.to(device)\n",
    "inference_module = ModelLightningModule(model)"
   ]
  },
  {
   "cell_type": "code",
   "execution_count": 8,
   "id": "f8891eeb",
   "metadata": {},
   "outputs": [
    {
     "name": "stderr",
     "output_type": "stream",
     "text": [
      "100%|██████████| 135/135 [00:19<00:00,  6.87it/s]\n"
     ]
    }
   ],
   "source": [
    "energies = []\n",
    "for g, lat, l_g, state_attr, e, f in tqdm(loader):\n",
    "    with torch.no_grad():\n",
    "        e_pred = inference_module(g=g.to(device), lat=lat.to(device), l_g=l_g.to(device), state_attr=state_attr.to(device))\n",
    "        energies.extend(e_pred.detach().cpu().numpy())\n",
    "energies = np.array(energies)"
   ]
  },
  {
   "cell_type": "code",
   "execution_count": 9,
   "id": "199717ce",
   "metadata": {},
   "outputs": [],
   "source": [
    "# load computed energies\n",
    "grid.load_energies(energies)"
   ]
  },
  {
   "cell_type": "code",
   "execution_count": 10,
   "id": "5acfee0d",
   "metadata": {},
   "outputs": [
    {
     "data": {
      "text/plain": [
       "{'E_1D': 0.0977, 'E_2D': 0.1562, 'E_3D': 0.1562}"
      ]
     },
     "execution_count": 10,
     "metadata": {},
     "output_type": "execute_result"
    }
   ],
   "source": [
    "# calculate barriers\n",
    "grid.percolation_barriers()"
   ]
  },
  {
   "cell_type": "code",
   "execution_count": 11,
   "id": "86c889d3",
   "metadata": {},
   "outputs": [],
   "source": [
    "# save .grd file\n",
    "grid.write_grd('NaGaPO4F_sym_grid.grd')"
   ]
  }
 ],
 "metadata": {
  "kernelspec": {
   "display_name": "matgl",
   "language": "python",
   "name": "python3"
  },
  "language_info": {
   "codemirror_mode": {
    "name": "ipython",
    "version": 3
   },
   "file_extension": ".py",
   "mimetype": "text/x-python",
   "name": "python",
   "nbconvert_exporter": "python",
   "pygments_lexer": "ipython3",
   "version": "3.12.3"
  }
 },
 "nbformat": 4,
 "nbformat_minor": 5
}
