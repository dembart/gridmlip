{
 "cells": [
  {
   "cell_type": "code",
   "execution_count": 1,
   "id": "273cd571",
   "metadata": {},
   "outputs": [],
   "source": [
    "import collections\n",
    "from functools import partial\n",
    "from tqdm import tqdm\n",
    "import numpy as np\n",
    "import torch\n",
    "import matgl\n",
    "from matgl.config import DEFAULT_ELEMENTS\n",
    "from matgl.ext.pymatgen import Structure2Graph\n",
    "from matgl.graph.data import MGLDataLoader, MGLDataset, collate_fn_pes\n",
    "from matgl.utils.training import ModelLightningModule\n",
    "from gridmlip import Grid"
   ]
  },
  {
   "cell_type": "code",
   "execution_count": 5,
   "id": "4ac1d0ec",
   "metadata": {},
   "outputs": [
    {
     "name": "stdout",
     "output_type": "stream",
     "text": [
      "Mesh Summary\n",
      "────────────────────────────────────\n",
      "  Mesh shape:                         (51, 25, 43)\n",
      "  Symops:                             4\n",
      "  Total points:                       54,825\n",
      "  Irreducible points:                 12,600\n",
      "  Irreducible points (r_min filter):  7,265\n",
      "  Compression ratio:                    7.55×\n",
      "────────────────────────────────────\n",
      "\n"
     ]
    },
    {
     "name": "stderr",
     "output_type": "stream",
     "text": [
      "creating configurations: 12600it [00:02, 5922.07it/s]\n"
     ]
    }
   ],
   "source": [
    "grid = Grid.from_file('../example_files/NaGaPO4F_sym.cif',\n",
    "                      specie=11,         # atomic number\n",
    "                      resolution=0.25,    # grid spacing\n",
    "                      r_min=1.2,         # minimum allowed distance between the specie and framework\n",
    "                      empty_framework=True # remove mobile species \n",
    "                      )\n",
    "cfgs = grid.construct_configurations(config_format='pymatgen') # format can be 'ase' or pymatgen"
   ]
  },
  {
   "cell_type": "code",
   "execution_count": 6,
   "id": "5160e87f",
   "metadata": {},
   "outputs": [
    {
     "name": "stderr",
     "output_type": "stream",
     "text": [
      "100%|█████████████████████████████████████████████████████████████████████████████| 7265/7265 [00:00<00:00, 331285.26it/s]\n"
     ]
    }
   ],
   "source": [
    "labels = collections.defaultdict(list)\n",
    "for cfg in tqdm(cfgs):\n",
    "    labels[\"energies\"].append(0.0)\n",
    "    labels[\"forces\"].append(np.zeros(len(cfg)).tolist())"
   ]
  },
  {
   "cell_type": "code",
   "execution_count": 7,
   "id": "68168b7a",
   "metadata": {},
   "outputs": [
    {
     "name": "stderr",
     "output_type": "stream",
     "text": [
      "100%|████████████████████████████████████████████████████████████████████████████████| 7265/7265 [00:13<00:00, 527.09it/s]\n"
     ]
    }
   ],
   "source": [
    "element_types = DEFAULT_ELEMENTS\n",
    "converter = Structure2Graph(element_types=element_types, cutoff=5.0)\n",
    "dataset = MGLDataset(structures=cfgs,\n",
    "                     converter=converter,\n",
    "                     labels=labels,\n",
    "                     clear_processed=True,\n",
    "                     save_cache=False,\n",
    "                    )"
   ]
  },
  {
   "cell_type": "code",
   "execution_count": 8,
   "id": "b20eac21",
   "metadata": {},
   "outputs": [],
   "source": [
    "collate_fn = partial(collate_fn_pes, include_line_graph=False, include_stress=False)\n",
    "# create a loader for the inference\n",
    "_, _, loader = MGLDataLoader(\n",
    "    train_data=[None],\n",
    "    val_data=[None],\n",
    "    test_data=dataset,\n",
    "    collate_fn=collate_fn,\n",
    "    batch_size=128,\n",
    "    num_workers=0,\n",
    ")"
   ]
  },
  {
   "cell_type": "code",
   "execution_count": 12,
   "id": "d15a92f7",
   "metadata": {},
   "outputs": [],
   "source": [
    "device = 'cuda:0'"
   ]
  },
  {
   "cell_type": "code",
   "execution_count": 13,
   "id": "1534ae46",
   "metadata": {},
   "outputs": [],
   "source": [
    "model = matgl.load_model(\"TensorNet-MatPES-PBE-v2025.1-PES\").model\n",
    "model.to(device)\n",
    "inference_module = ModelLightningModule(model)"
   ]
  },
  {
   "cell_type": "code",
   "execution_count": 14,
   "id": "f8891eeb",
   "metadata": {},
   "outputs": [
    {
     "name": "stderr",
     "output_type": "stream",
     "text": [
      "100%|█████████████████████████████████████████████████████████████████████████████████████| 57/57 [00:14<00:00,  4.02it/s]\n"
     ]
    }
   ],
   "source": [
    "energies = []\n",
    "for g, lat, l_g, state_attr, e, f in tqdm(loader):\n",
    "    with torch.no_grad():\n",
    "        e_pred = inference_module(g=g.to(device), lat=lat.to(device), l_g=l_g.to(device), state_attr=state_attr.to(device))\n",
    "        energies.extend(e_pred.detach().cpu().numpy())\n",
    "energies = np.array(energies)"
   ]
  },
  {
   "cell_type": "code",
   "execution_count": 15,
   "id": "199717ce",
   "metadata": {},
   "outputs": [],
   "source": [
    "# load computed energies\n",
    "grid.load_energies(energies)"
   ]
  },
  {
   "cell_type": "code",
   "execution_count": 16,
   "id": "5acfee0d",
   "metadata": {},
   "outputs": [
    {
     "data": {
      "text/plain": [
       "{'E_1D': 0.0977, 'E_2D': 0.1562, 'E_3D': 0.1562}"
      ]
     },
     "execution_count": 16,
     "metadata": {},
     "output_type": "execute_result"
    }
   ],
   "source": [
    "# calculate barriers\n",
    "grid.percolation_barriers()"
   ]
  },
  {
   "cell_type": "code",
   "execution_count": 17,
   "id": "86c889d3",
   "metadata": {},
   "outputs": [],
   "source": [
    "# save .grd file\n",
    "grid.write_grd('NaGaPO4F_sym_grid.grd')"
   ]
  }
 ],
 "metadata": {
  "kernelspec": {
   "display_name": "Python [conda env:matgl]",
   "language": "python",
   "name": "conda-env-matgl-py"
  },
  "language_info": {
   "codemirror_mode": {
    "name": "ipython",
    "version": 3
   },
   "file_extension": ".py",
   "mimetype": "text/x-python",
   "name": "python",
   "nbconvert_exporter": "python",
   "pygments_lexer": "ipython3",
   "version": "3.12.3"
  }
 },
 "nbformat": 4,
 "nbformat_minor": 5
}
